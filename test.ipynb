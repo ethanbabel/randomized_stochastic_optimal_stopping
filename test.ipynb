{
 "cells": [
  {
   "cell_type": "code",
   "execution_count": 1,
   "id": "46094150",
   "metadata": {},
   "outputs": [],
   "source": [
    "import numpy as np\n",
    "import matplotlib.pyplot as plt\n",
    "import torch\n",
    "import torch.nn as nn\n",
    "import torch.optim as optim\n",
    "\n",
    "from policies.lsm import LSMPolicy\n",
    "from policies.rpo import RPOPolicy\n",
    "from section51_gbm_comparison.gbm_trajectories import generate_gbm_trajectories, graph_gbm_trajectories\n",
    "from section51_gbm_comparison.plot_boundaries import plot_boundaries, plot_rpo_boundaries\n",
    "\n"
   ]
  },
  {
   "cell_type": "code",
   "execution_count": 2,
   "id": "6a8c74c4",
   "metadata": {},
   "outputs": [],
   "source": [
    "K = 100.0\n",
    "def payoff(t, x):\n",
    "    return max(x - K, 0)\n",
    "\n",
    "basis_functions = [\n",
    "    lambda x: 1.0,                            # Constant term (bias/intercept)\n",
    "    lambda x: (x - K) / (x + 1e-5),           # Scaled payoff (zero near strike, increasing with moneyness)\n",
    "    lambda x: ((x - K) / (x + 1e-5))**2,      # Quadratic in scaled payoff — allows curvature\n",
    "    lambda x: np.exp(-np.abs(x - K) / K),    # Exponential decay around strike (sharp transition modeling)\n",
    "]"
   ]
  },
  {
   "cell_type": "code",
   "execution_count": 3,
   "id": "c2035be8",
   "metadata": {},
   "outputs": [
    {
     "name": "stdout",
     "output_type": "stream",
     "text": [
      "[array([ 22.312687,  48.2712  ,  10.000335, -10.706387], dtype=float32), array([  2.4479926,  71.55663  ,  45.61465  , -44.02363  ], dtype=float32), array([  9.527155 ,  33.315228 ,   6.1506824, -46.085617 ], dtype=float32), array([ 15.128083 ,  34.45136  ,   6.8987803, -53.508873 ], dtype=float32), array([ 19.469948 ,  35.087234 ,   7.9367905, -59.39522  ], dtype=float32), array([ 23.209734,  42.065662,  13.908068, -65.82793 ], dtype=float32), array([ 28.247854,  37.39518 , -16.810335, -70.77529 ], dtype=float32), array([ 31.460745 ,  47.609604 ,   7.5747094, -78.447365 ], dtype=float32), array([ 35.057297,  48.599728,   6.284153, -83.55295 ], dtype=float32), array([ 38.016876,  49.115105,   7.203269, -89.02251 ], dtype=float32), array([ 40.493195,  50.315697,  10.462806, -92.96953 ], dtype=float32), array([ 42.65279 ,  52.015865,  13.146792, -97.14555 ], dtype=float32), array([  45.750996,   45.768913,   18.049604, -100.08391 ], dtype=float32), array([  46.777885 ,   45.89585  ,   13.5005865, -102.876396 ],\n",
      "      dtype=float32), array([  47.898476,   45.964886,   10.504494, -105.54413 ], dtype=float32), array([  49.50517 ,   48.001114,   13.396778, -109.16218 ], dtype=float32), array([  49.675533,   53.737797,   18.223133, -112.2504  ], dtype=float32), array([  50.11972 ,   56.31334 ,   24.193344, -115.44971 ], dtype=float32), array([  49.792328,   57.208805,   26.648705, -118.56047 ], dtype=float32), array([  50.0153  ,   56.592014,   23.99101 , -121.15213 ], dtype=float32), array([  48.365948,   57.094936,   27.710796, -123.536446], dtype=float32), array([  48.82226 ,   56.29728 ,   26.366276, -124.58289 ], dtype=float32), array([  48.368694,   56.334103,   28.98113 , -124.37373 ], dtype=float32), array([  47.161312,   56.26818 ,   29.015509, -125.097305], dtype=float32), array([  46.22394 ,   56.556007,   31.530724, -127.40614 ], dtype=float32), array([  45.891644,   56.124546,   33.894794, -127.711754], dtype=float32), array([  45.82457 ,   56.313633,   35.188484, -127.05658 ], dtype=float32), array([  45.840298,   57.1433  ,   37.1     , -125.97302 ], dtype=float32), array([  45.893456,   57.50472 ,   37.16874 , -125.886055], dtype=float32), array([  45.116055,   56.390415,   38.6207  , -127.39994 ], dtype=float32), array([  44.479637,   56.33583 ,   39.102848, -127.42273 ], dtype=float32), array([  44.201054,   55.856014,   38.699123, -126.87052 ], dtype=float32), array([  42.958374,   55.358677,   40.327663, -127.70227 ], dtype=float32), array([  43.172592,   55.352707,   42.487034, -126.13406 ], dtype=float32), array([  41.90654 ,   54.30133 ,   40.220203, -125.53119 ], dtype=float32), array([  40.788525,   54.646442,   45.424805, -124.362915], dtype=float32), array([  39.612385,   54.299927,   46.794594, -123.20617 ], dtype=float32), array([  39.132973,   53.2188  ,   43.01308 , -121.954475], dtype=float32), array([  37.317993,   51.008167,   41.592964, -122.49167 ], dtype=float32), array([  36.087555,   49.944427,   39.508556, -121.652374], dtype=float32), array([  35.126915,   49.65113 ,   41.888966, -121.39788 ], dtype=float32), array([  34.45464 ,   49.76055 ,   42.737827, -121.58984 ], dtype=float32), array([  33.864246,   49.251762,   44.28602 , -121.03355 ], dtype=float32), array([  32.723156,   48.033066,   42.841553, -120.90669 ], dtype=float32), array([  32.67916 ,   47.227932,   39.348465, -119.949646], dtype=float32), array([  31.549929,   46.159412,   38.801014, -120.388885], dtype=float32), array([  31.497849,   45.25746 ,   36.76256 , -119.52548 ], dtype=float32), array([  31.475037,   44.940247,   38.566746, -119.24824 ], dtype=float32), array([  31.376942,   44.699196,   36.871887, -119.28119 ], dtype=float32), array([  30.616962,   44.267467,   39.34176 , -118.70077 ], dtype=float32), array([  30.529133,   43.043255,   33.507103, -117.881195], dtype=float32), array([  29.885447,   41.96104 ,   33.81036 , -118.20803 ], dtype=float32), array([  30.145655,   41.830868,   31.616205, -117.94735 ], dtype=float32), array([  30.101671,   40.512268,   29.73495 , -117.740685], dtype=float32), array([  28.229755,   38.681316,   29.764042, -118.32404 ], dtype=float32), array([  29.148483,   38.030224,   26.915945, -117.335846], dtype=float32), array([  29.1662  ,   38.479877,   27.0981  , -117.153595], dtype=float32), array([  28.808298,   37.04045 ,   26.516218, -117.62387 ], dtype=float32), array([  27.976791,   35.08022 ,   24.529495, -118.76186 ], dtype=float32), array([  27.77515 ,   33.93878 ,   22.379936, -118.76543 ], dtype=float32), array([  27.811602,   33.27032 ,   20.382544, -119.181564], dtype=float32), array([  27.859652,   32.422462,   20.79566 , -119.140755], dtype=float32), array([  27.533327,   31.437483,   16.57377 , -119.73926 ], dtype=float32), array([  27.80298 ,   30.66171 ,   15.147905, -119.32205 ], dtype=float32), array([  27.92443 ,   29.920713,   15.124174, -118.800545], dtype=float32), array([  28.10884 ,   29.373327,   12.670533, -118.81352 ], dtype=float32), array([  27.892092,   28.02371 ,   13.959075, -118.609146], dtype=float32), array([  27.103893,   27.31254 ,   12.574386, -119.4697  ], dtype=float32), array([  27.191088,   26.229273,   10.934909, -119.270386], dtype=float32), array([  28.00258 ,   25.855618,    8.07738 , -118.468475], dtype=float32), array([  27.687063,   25.312174,    8.539615, -118.68128 ], dtype=float32), array([  27.699928,   24.19695 ,    7.335843, -118.52832 ], dtype=float32), array([  27.115116,   23.287382,    7.363733, -118.535614], dtype=float32), array([  27.379696,   22.730331,    3.683204, -118.36926 ], dtype=float32), array([  26.98485 ,   21.987745,    2.487135, -118.88337 ], dtype=float32), array([  27.198772 ,   21.29972  ,    2.3817303, -118.24423  ],\n",
      "      dtype=float32), array([  26.617487 ,   20.60219  ,    1.5210806, -118.92979  ],\n",
      "      dtype=float32), array([  26.524233 ,   19.447956 ,   -1.2226148, -118.667595 ],\n",
      "      dtype=float32), array([  26.74487  ,   18.817957 ,   -1.0537459, -118.59679  ],\n",
      "      dtype=float32), array([  26.278349 ,   17.95217  ,   -1.9350411, -118.87901  ],\n",
      "      dtype=float32), array([  27.090715 ,   15.466803 ,   -4.6868615, -117.60917  ],\n",
      "      dtype=float32), array([  26.110252 ,   16.335918 ,   -3.9600718, -118.67115  ],\n",
      "      dtype=float32), array([  26.680387,   16.009558,   -6.353095, -118.25658 ], dtype=float32), array([  27.279898,   15.307827,   -8.479242, -118.14063 ], dtype=float32), array([  26.780241 ,   15.288536 ,   -7.4851675, -118.48988  ],\n",
      "      dtype=float32), array([  27.474308,   14.503889,   -7.713201, -117.61919 ], dtype=float32), array([  27.378117,   14.162055,   -6.998833, -118.001816], dtype=float32), array([  27.414536 ,   13.870633 ,   -7.6339493, -118.46307  ],\n",
      "      dtype=float32), array([  27.439867,   13.646209,   -8.217327, -118.33057 ], dtype=float32), array([  27.253971,   12.724402,   -9.431817, -118.59776 ], dtype=float32), array([  27.702448,   12.307098,  -11.802768, -118.01433 ], dtype=float32), array([  27.675604,   11.405435,  -13.651303, -118.44715 ], dtype=float32), array([  27.414526,   10.097167,  -14.985702, -118.729004], dtype=float32), array([  27.28977 ,    9.276422,  -14.754592, -119.83717 ], dtype=float32), array([  26.891504 ,   10.1726265,  -13.386673 , -120.60796  ],\n",
      "      dtype=float32), array([  27.472404,    8.600596,  -15.938499, -119.97764 ], dtype=float32), array([  27.49097 ,    8.610812,  -15.350604, -120.78541 ], dtype=float32), array([  28.02894 ,    8.013164,  -16.772911, -120.516205], dtype=float32), array([  27.585457,   85.29558 ,   72.23743 , -216.23094 ], dtype=float32), array([  31.988451,   85.52715 ,  125.648895, -230.05806 ], dtype=float32)]\n"
     ]
    }
   ],
   "source": [
    "weights = torch.load('test6_x4/rpo_weights.pt').detach().numpy()\n",
    "rpo = RPOPolicy(\n",
    "    basis_functions=basis_functions,\n",
    "    payoff_fn=payoff,\n",
    "    T=100,\n",
    "    steps=100,\n",
    "    start_weights=weights,\n",
    ")\n",
    "print(rpo.get_weights())"
   ]
  },
  {
   "cell_type": "code",
   "execution_count": 4,
   "id": "ad3fa247",
   "metadata": {},
   "outputs": [],
   "source": [
    "t_values=list(range(1,100))\n",
    "x_grid=np.linspace(50, 500, 700)"
   ]
  },
  {
   "cell_type": "code",
   "execution_count": 5,
   "id": "4b3e1b96",
   "metadata": {},
   "outputs": [],
   "source": [
    "plot_rpo_boundaries(\n",
    "    policies=[(\"RPO\", rpo)],\n",
    "    t_values=t_values,\n",
    "    x_grid=x_grid,\n",
    "    target_probs=[0.1, 0.2, 0.3, 0.4, 0.5, 0.6, 0.7, 0.8, 0.9],\n",
    "    title=\"RPO Boundaries\",\n",
    "    filename=\"rpo_boundaries.png\"\n",
    ")"
   ]
  }
 ],
 "metadata": {
  "kernelspec": {
   "display_name": ".venv",
   "language": "python",
   "name": "python3"
  },
  "language_info": {
   "codemirror_mode": {
    "name": "ipython",
    "version": 3
   },
   "file_extension": ".py",
   "mimetype": "text/x-python",
   "name": "python",
   "nbconvert_exporter": "python",
   "pygments_lexer": "ipython3",
   "version": "3.12.9"
  }
 },
 "nbformat": 4,
 "nbformat_minor": 5
}
